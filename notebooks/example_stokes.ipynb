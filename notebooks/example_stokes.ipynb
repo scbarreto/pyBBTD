{
 "cells": [
  {
   "cell_type": "markdown",
   "metadata": {},
   "source": [
    "# Example usage of Stokes Class"
   ]
  },
  {
   "cell_type": "code",
   "execution_count": 1,
   "metadata": {},
   "outputs": [],
   "source": [
    "%load_ext autoreload\n",
    "%autoreload 2\n",
    "\n",
    "import numpy as np\n",
    "import pybbtd.stokes as stokes\n",
    "import pybbtd.btd as btd"
   ]
  },
  {
   "cell_type": "code",
   "execution_count": 2,
   "metadata": {},
   "outputs": [
    {
     "name": "stdout",
     "output_type": "stream",
     "text": [
      "Sufficient condition for uniqueness satisfied\n",
      "Stokes tensor initialized with dimensions (100, 100, 4) on LL1 mode.\n"
     ]
    }
   ],
   "source": [
    "# Create Stokes model\n",
    "R = 3\n",
    "L = 10\n",
    "btd.validate_R_L(R, L)\n",
    "X = stokes.Stokes([100, 100], R, L)"
   ]
  },
  {
   "cell_type": "code",
   "execution_count": 4,
   "metadata": {},
   "outputs": [
    {
     "data": {
      "text/plain": [
       "array([10, 10, 10])"
      ]
     },
     "execution_count": 4,
     "metadata": {},
     "output_type": "execute_result"
    }
   ],
   "source": [
    "X.L"
   ]
  },
  {
   "cell_type": "code",
   "execution_count": 8,
   "metadata": {},
   "outputs": [
    {
     "name": "stdout",
     "output_type": "stream",
     "text": [
      "inside function:  [10 10 10]\n"
     ]
    }
   ],
   "source": [
    "# Create ground truth tensor\n",
    "np.random.seed(10)\n",
    "[A0, B0, C0], T0 = X.generate_stokes_tensor()"
   ]
  },
  {
   "cell_type": "code",
   "execution_count": 9,
   "metadata": {},
   "outputs": [
    {
     "name": "stdout",
     "output_type": "stream",
     "text": [
      "Sufficient condition for uniqueness satisfied\n",
      "Stokes tensor initialized with dimensions (100, 100, 4) on LL1 mode.\n",
      "All pixels satisfy the Stokes constraints.\n"
     ]
    },
    {
     "data": {
      "text/plain": [
       "<pybbtd.stokes.Stokes at 0x117c98490>"
      ]
     },
     "execution_count": 9,
     "metadata": {},
     "output_type": "execute_result"
    }
   ],
   "source": [
    "stokes.load_stokes_tensor(T0, R, L)"
   ]
  },
  {
   "cell_type": "code",
   "execution_count": 10,
   "metadata": {},
   "outputs": [],
   "source": [
    "A0, B0, C0 = X.factors"
   ]
  },
  {
   "cell_type": "code",
   "execution_count": 11,
   "metadata": {},
   "outputs": [
    {
     "name": "stdout",
     "output_type": "stream",
     "text": [
      "All pixels satisfy the Stokes constraints.\n"
     ]
    }
   ],
   "source": [
    "X.validate_stokes_tensor()"
   ]
  },
  {
   "cell_type": "code",
   "execution_count": 37,
   "metadata": {},
   "outputs": [
    {
     "name": "stdout",
     "output_type": "stream",
     "text": [
      "Cannot guarantee uniqueness. Proceed at your own risk.\n",
      "Stokes tensor initialized with dimensions (3, 3, 4) on LL1 mode.\n",
      "All pixels satisfy the Stokes constraints.\n"
     ]
    }
   ],
   "source": [
    "Stokesnew = stokes.load_stokes_tensor(T0, R, L)"
   ]
  },
  {
   "cell_type": "code",
   "execution_count": 60,
   "metadata": {},
   "outputs": [],
   "source": [
    "T0 = np.ones((3, 3, 4))\n",
    "for i in range(3):\n",
    "    for j in range(3):        \n",
    "        T0[i, j, :] = [1, 2, 4, 0.2]"
   ]
  },
  {
   "cell_type": "code",
   "execution_count": 65,
   "metadata": {},
   "outputs": [
    {
     "name": "stdout",
     "output_type": "stream",
     "text": [
      "100.00% of pixels do not satisfy the Stokes constraints.\n",
      "9\n"
     ]
    }
   ],
   "source": [
    "stokes.validate_stokes_tensor(T0)"
   ]
  },
  {
   "cell_type": "code",
   "execution_count": null,
   "metadata": {},
   "outputs": [],
   "source": []
  }
 ],
 "metadata": {
  "kernelspec": {
   "display_name": ".venv",
   "language": "python",
   "name": "python3"
  },
  "language_info": {
   "codemirror_mode": {
    "name": "ipython",
    "version": 3
   },
   "file_extension": ".py",
   "mimetype": "text/x-python",
   "name": "python",
   "nbconvert_exporter": "python",
   "pygments_lexer": "ipython3",
   "version": "3.11.12"
  }
 },
 "nbformat": 4,
 "nbformat_minor": 2
}
